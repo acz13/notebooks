{
 "cells": [
  {
   "cell_type": "code",
   "execution_count": 1,
   "metadata": {},
   "outputs": [],
   "source": [
    "from requests import get\n",
    "import pandas as pd\n",
    "from bs4 import BeautifulSoup"
   ]
  },
  {
   "cell_type": "code",
   "execution_count": 2,
   "metadata": {},
   "outputs": [],
   "source": [
    "g = get(\"http://www.hsquizbowl.org/db/tournaments/4497/stats/round_robin/playerdetail/\").text\n",
    "soup = BeautifulSoup(g, \"html5lib\")"
   ]
  },
  {
   "cell_type": "code",
   "execution_count": 3,
   "metadata": {},
   "outputs": [],
   "source": [
    "def player_from_table(table):\n",
    "    df = pd.read_html(str(table), header=0, index_col=0)[0]\n",
    "    # Recalculate\n",
    "    del df[\"P/TU\"]\n",
    "    del df[\"P/N\"]\n",
    "    del df[\"G/N\"]\n",
    "    return df"
   ]
  },
  {
   "cell_type": "code",
   "execution_count": 4,
   "metadata": {},
   "outputs": [],
   "source": [
    "name_fix = {\n",
    "    \"Han\": \"Yifan\",\n",
    "    \"Darien\": \"Darren\"  \n",
    "}\n",
    "last_name = {\n",
    "    \"Jasmine\": \"C\",\n",
    "    \"Alison\": \"W\",\n",
    "    \"Lui\": \"K\"\n",
    "}\n",
    "\n",
    "players = {f\"State College {l}\": {} for l in \"ABCDEF\"}\n",
    "for i in soup.find_all(\"h2\"):\n",
    "    try:\n",
    "        player, team = map(str.strip, i.text.split(\",\"))\n",
    "    except:\n",
    "        continue\n",
    "    if not team.startswith(\"State College\") or player == \"Patrick\":\n",
    "        continue\n",
    "    elif team == \"State College D\":\n",
    "        first, last = player, last_name[player]\n",
    "    else:\n",
    "        first, last = player.split(\" \")\n",
    "        last = last[0]\n",
    "        if first in name_fix:\n",
    "            first = name_fix[first]\n",
    "    players[team][f\"{first} {last}\"] = player_from_table(i.next_sibling.next_sibling)"
   ]
  }
 ],
 "metadata": {
  "kernelspec": {
   "display_name": "Python 3",
   "language": "python",
   "name": "python3"
  },
  "language_info": {
   "codemirror_mode": {
    "name": "ipython",
    "version": 3
   },
   "file_extension": ".py",
   "mimetype": "text/x-python",
   "name": "python",
   "nbconvert_exporter": "python",
   "pygments_lexer": "ipython3",
   "version": "3.6.2"
  }
 },
 "nbformat": 4,
 "nbformat_minor": 2
}
