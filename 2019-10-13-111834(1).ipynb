{
 "cells": [
  {
   "cell_type": "code",
   "execution_count": 4,
   "metadata": {
    "collapsed": false
   },
   "outputs": [
    {
     "data": {
      "text/plain": [
       "t"
      ]
     },
     "execution_count": 4,
     "metadata": {
     },
     "output_type": "execute_result"
    }
   ],
   "source": [
    "var('t')"
   ]
  },
  {
   "cell_type": "code",
   "execution_count": 8,
   "metadata": {
    "collapsed": false
   },
   "outputs": [
   ],
   "source": [
    "s = {\n",
    "    \"stored_r\": \"\",\n",
    "    \"stored\": []\n",
    "}\n",
    "\n",
    "def calcs(ri):\n",
    "    if ri != s[\"stored_r\"]:\n",
    "        r = vector(sage_eval(ri, locals={'t': t}))\n",
    "        v = diff(r, t)\n",
    "        v_mag = v.norm()\n",
    "        T = v / v_mag\n",
    "        dTdt = diff(T, t)\n",
    "        N = dTdt / dTdt.norm()\n",
    "\n",
    "        a = diff(v, t)\n",
    "        K = (v.cross_product(a)).norm() / (v_mag^3)\n",
    "        K2 = dTdt.norm() / v_mag\n",
    "\n",
    "        s[\"stored_r\"] = ri\n",
    "        s[\"stored\"] = [r, v, T, dTdt, N, K, K2]\n",
    "    else:\n",
    "        print(\"cache hit!\")\n",
    "    return s[\"stored\"]"
   ]
  },
  {
   "cell_type": "code",
   "execution_count": 16,
   "metadata": {
    "collapsed": false
   },
   "outputs": [
    {
     "data": {
      "application/vnd.jupyter.widget-view+json": {
       "model_id": "ce72d919ab9940b3a10af8fd8d579676",
       "version_major": 2,
       "version_minor": 0
      },
      "text/plain": [
       "SW50ZXJhY3RpdmUgZnVuY3Rpb24gPGZ1bmN0aW9uIF8gYXQgMHg3ZmVhYTQyNzlmNTA+IHdpdGggOCB3aWRnZXRzCiAgcmk6IFRleHQodmFsdWU9dSdjb3ModCksIHNpbih0KSwgdCcsIGRlc2PigKY=\n"
      ]
     },
     "execution_count": 16,
     "metadata": {
     },
     "output_type": "execute_result"
    }
   ],
   "source": [
    "@interact\n",
    "def _(ri=\"cos(t), sin(t), t\", t_=slider(0, 10), coeff_of_pi=checkbox(True), show_Nexpr=checkbox(False), rational=checkbox(), numerical=checkbox(), doSimp=checkbox(), show_VVF=checkbox()):\n",
    "    rv, v, T, dTdt, N, K, K2 = calcs(ri)\n",
    "\n",
    "    show(LatexExpr(\"r(t) = %s\" % latex(simplify(rv))))\n",
    "    show(LatexExpr(\"\\hat{T}(t) = %s\" % latex(simplify(T))))\n",
    "    if show_Nexpr:\n",
    "        show(LatexExpr(\"\\hat{N}(t) = %s\" % latex(simplify(N))))\n",
    "    show(LatexExpr(\"\\kappa(t) = %s\" % latex(simplify(K))))\n",
    "\n",
    "    ti = (pi if coeff_of_pi else 1) * (QQ(t_) if rational else t_)\n",
    "\n",
    "    re = rv(t=ti)\n",
    "    Te = T(t=ti)\n",
    "    dTdte = dTdt(t=ti)\n",
    "    Ne = N(t=ti)\n",
    "    Ke = K(t=ti)\n",
    "    K2e = K2(t=ti)\n",
    "\n",
    "    C = re + Ne / Ke\n",
    "\n",
    "    def simp(x):\n",
    "        if doSimp:\n",
    "            return simplify(x)\n",
    "        else:\n",
    "            return x\n",
    "\n",
    "    def dispFunc(x):\n",
    "        if numerical:\n",
    "            return latex(numerical_approx(x, digits=6))\n",
    "        else:\n",
    "            return latex(simp(x))\n",
    "\n",
    "    show(LatexExpr(\"r(%s) = %s\" % (dispFunc(ti), dispFunc(re))))\n",
    "    show(LatexExpr(\"\\hat{T}(%s) = %s\" % (dispFunc(ti), dispFunc(Te))))\n",
    "    show(LatexExpr(\"\\\\left. \\\\frac{d\\\\hat{T}}{dt} \\\\right|_{t=%s} = %s\" % (dispFunc(ti), dispFunc(dTdte))))\n",
    "    show(LatexExpr(\"\\hat{N}(%s) = %s\" % (dispFunc(ti), dispFunc(Ne))))\n",
    "    show(LatexExpr(\"\\\\kappa(%s) = %s\" % (dispFunc(ti), dispFunc(Ke))))\n",
    "    show(LatexExpr(\"\\\\rho(%s) = %s\" % (dispFunc(ti), dispFunc(1 / Ke))))\n",
    "\n",
    "    if show_VVF:\n",
    "        def VVF(i):\n",
    "            return (dispFunc(C[i]) if C[i] > 0 else \"\") + ((\"+\" if Te[i] > 0 else \"\") + dispFunc(Te[i] / Ke) + \"\\\\cos(t)\" if abs(Te[i]) > 0 else \"\") + ((\"+\" if Ne[i] > 0 else \"\") + dispFunc(Ne[i] / Ke) + \"\\\\sin(t)\" if abs(Ne[i]) > 0 else \"\")\n",
    "\n",
    "        show(LatexExpr(\"(%s, %s, %s)\" % (VVF(0), VVF(1), VVF(2))))\n",
    "#     Nv = arrow(re, re + Ne / Ke)\n",
    "#     r = parametric_plot3d(ri, (t, 0, 2*pi))\n",
    "#     show(p + r + Nv)"
   ]
  }
 ],
 "metadata": {
  "kernelspec": {
   "display_name": "SageMath (stable)",
   "language": "sagemath",
   "metadata": {
    "cocalc": {
     "description": "Open-source mathematical software system",
     "priority": 10,
     "url": "https://www.sagemath.org/"
    }
   },
   "name": "sagemath"
  },
  "language_info": {
   "codemirror_mode": {
    "name": "ipython",
    "version": 2
   },
   "file_extension": ".py",
   "mimetype": "text/x-python",
   "name": "python",
   "nbconvert_exporter": "python",
   "pygments_lexer": "ipython2",
   "version": "2.7.15"
  }
 },
 "nbformat": 4,
 "nbformat_minor": 0
}